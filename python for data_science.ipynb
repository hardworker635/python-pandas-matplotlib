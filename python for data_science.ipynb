{
 "cells": [
  {
   "cell_type": "code",
   "execution_count": 1,
   "id": "9f6c144f",
   "metadata": {},
   "outputs": [
    {
     "name": "stdout",
     "output_type": "stream",
     "text": [
      "hello world\n"
     ]
    }
   ],
   "source": [
    "print(\"hello world\")"
   ]
  },
  {
   "cell_type": "code",
   "execution_count": null,
   "id": "3a4b4832",
   "metadata": {},
   "outputs": [],
   "source": [
    "# python uses ipynb - i  python notebook - interactive notebook consisting of text and code."
   ]
  },
  {
   "cell_type": "code",
   "execution_count": null,
   "id": "d1283a75",
   "metadata": {},
   "outputs": [],
   "source": [
    "# R programming language is also used when working with data, however, it is used for only certain applications\n",
    "# it's constrained to a certain domain\n",
    "# python is more general purpose, lot of applications "
   ]
  },
  {
   "cell_type": "code",
   "execution_count": null,
   "id": "65a43aee",
   "metadata": {},
   "outputs": [],
   "source": [
    "# install certain libraries required for python\n",
    "# what makes python so powerful -  ability to use built in packages\n",
    "\n",
    "# these packages are install using the command pip install x\n",
    "\n",
    "# numpy  = numerical python = creating arrays in python - faster than lists\n",
    "# matplotlib = plotting data - graphically \n",
    "# pandas - \n",
    "# nltk - natural language processing - tokenization of text\n",
    "# keras - one of the components of tensorflow - deep learning\n",
    "# scikit-learn - regression and classification algorithms\n",
    "# scipy\n",
    "# seaborn\n",
    "# --upgrade tensorflow ?\n",
    "# Pillow\n",
    "# Plotly"
   ]
  },
  {
   "cell_type": "code",
   "execution_count": null,
   "id": "71b4ee84",
   "metadata": {},
   "outputs": [],
   "source": [
    "# the pip command comes with python by default."
   ]
  },
  {
   "cell_type": "markdown",
   "id": "94c158f4",
   "metadata": {},
   "source": [
    "# python Module"
   ]
  },
  {
   "cell_type": "markdown",
   "id": "37c999ae",
   "metadata": {},
   "source": [
    "A python module is similar to a class in java. When I create a file called hello.py, that means a module is created.\n",
    "A python module can consist of variables, functions, and classes in it.\n",
    "Anyone can create a module by simply creating a file.\n",
    "\n",
    "#  module is a single Python file containing code\n",
    "\n",
    "Modules typically have a .py extension and can be built-in (e.g., math, os, datetime) or created by you and others."
   ]
  },
  {
   "cell_type": "code",
   "execution_count": 2,
   "id": "6d72e2cf",
   "metadata": {},
   "outputs": [
    {
     "name": "stdout",
     "output_type": "stream",
     "text": [
      "4.0\n"
     ]
    }
   ],
   "source": [
    "# to import the module \n",
    "\n",
    "import math # there is a file called math.py \n",
    "\n",
    "print(math.sqrt(16)) # sqrt() is a function in math module"
   ]
  },
  {
   "cell_type": "code",
   "execution_count": 3,
   "id": "bc224fba",
   "metadata": {},
   "outputs": [
    {
     "name": "stdout",
     "output_type": "stream",
     "text": [
      "120\n"
     ]
    }
   ],
   "source": [
    "# from statement\n",
    "# lets you import certain parts of the module without importing the entire module\n",
    "\n",
    "from math import factorial # factorial is another method in math module\n",
    "\n",
    "print(math.factorial(5))"
   ]
  },
  {
   "cell_type": "code",
   "execution_count": 4,
   "id": "af6c65aa",
   "metadata": {},
   "outputs": [
    {
     "data": {
      "text/plain": [
       "120"
      ]
     },
     "execution_count": 4,
     "metadata": {},
     "output_type": "execute_result"
    }
   ],
   "source": [
    "# that means math.py\n",
    "def fact(value):\n",
    "    if(value == 0 or value == 1):\n",
    "        return 1\n",
    "    else:\n",
    "        x = 1\n",
    "        while(value >= 1):\n",
    "            x = x * value\n",
    "            value = value - 1\n",
    "        return x\n",
    "# the math.py has this function present in it."
   ]
  },
  {
   "cell_type": "markdown",
   "id": "acf0c6d6",
   "metadata": {},
   "source": [
    "# Renaming the Python module"
   ]
  },
  {
   "cell_type": "markdown",
   "id": "fc079f3b",
   "metadata": {},
   "source": [
    "Syntax:  Import Module_name as Alias_name"
   ]
  },
  {
   "cell_type": "code",
   "execution_count": 6,
   "id": "c4250d91",
   "metadata": {},
   "outputs": [
    {
     "name": "stdout",
     "output_type": "stream",
     "text": [
      "46\n"
     ]
    }
   ],
   "source": [
    "# examples of python modules\n",
    "\n",
    "# math\n",
    "# random\n",
    "# datetime\n",
    "# os\n",
    "\n",
    "import random as rd # rd is an alias name for calling the variable names easily\n",
    "\n",
    "rand_num = rd.randint(1,50) # it's always good programming practice to store in variables\n",
    "print(rand_num)"
   ]
  },
  {
   "cell_type": "markdown",
   "id": "062b3cd3",
   "metadata": {},
   "source": [
    "# python package\n"
   ]
  },
  {
   "cell_type": "markdown",
   "id": "5a2a5bbc",
   "metadata": {},
   "source": [
    "A python package is similar to package in java. A package consists of related modules. A package is a directory that contains a special __init__.py file (which can be empty) and one or more modules (Python files).\n",
    "Packages can also include sub-packages, creating a hierarchical organization of code."
   ]
  },
  {
   "cell_type": "markdown",
   "id": "01f2f528",
   "metadata": {},
   "source": [
    "# python library"
   ]
  },
  {
   "cell_type": "markdown",
   "id": "a5df27c4",
   "metadata": {},
   "source": [
    "A python library is a big folder. It consists of a collection of modules or packages. Libraries are higher-level organization units, that may also consist of additional resources like documentation. libraries are created to serve specific domains. And consist of all related code, data visualization, machine learning.  \n",
    "\n",
    ". Libraries often consist of one or more packages, each containing modules. "
   ]
  },
  {
   "cell_type": "code",
   "execution_count": 7,
   "id": "1bf8222c",
   "metadata": {},
   "outputs": [],
   "source": [
    "# you use the same import statement to import both modules and libraries in Python\n",
    "\n",
    "import matplotlib as mpl # alias\n"
   ]
  },
  {
   "cell_type": "markdown",
   "id": "2f285d92",
   "metadata": {},
   "source": [
    "# submodule \n"
   ]
  },
  {
   "cell_type": "code",
   "execution_count": null,
   "id": "d46dab0a",
   "metadata": {},
   "outputs": [],
   "source": [
    "# A sub-module (or simply a module within a package) is a module that is contained within another module or package."
   ]
  },
  {
   "cell_type": "code",
   "execution_count": 9,
   "id": "4a57d0b9",
   "metadata": {},
   "outputs": [
    {
     "data": {
      "image/png": "[encoded data removed]",
      "text/plain": [
       "<Figure size 640x480 with 1 Axes>"
      ]
     },
     "metadata": {},
     "output_type": "display_data"
    }
   ],
   "source": [
    "from matplotlib import pyplot as pp\n",
    "\n",
    "# here matplotlib - library\n",
    "# pyplot is a sub-module in matplotlib\n",
    "# plot is a function defined in that module\n",
    "# show is used to show the graph\n",
    "\n",
    "import numpy as np\n",
    "\n",
    "x_values = np.array([-2,-1,0,1,2,3,4])\n",
    "y_values = np.array([5,7,9,11,13,15,17])\n",
    "\n",
    "pp.plot(x_values,y_values)\n",
    "pp.show()\n"
   ]
  },
  {
   "cell_type": "code",
   "execution_count": 11,
   "id": "6e0d8519",
   "metadata": {},
   "outputs": [
    {
     "name": "stdout",
     "output_type": "stream",
     "text": [
      "['False', 'None', 'True', 'and', 'as', 'assert', 'async', 'await', 'break', 'class', 'continue', 'def', 'del', 'elif', 'else', 'except', 'finally', 'for', 'from', 'global', 'if', 'import', 'in', 'is', 'lambda', 'nonlocal', 'not', 'or', 'pass', 'raise', 'return', 'try', 'while', 'with', 'yield']\n",
      "35\n"
     ]
    }
   ],
   "source": [
    "import keyword as kw # kw is an alias name\n",
    "# import is similar to <#include <stdio.h>>\n",
    "\n",
    "print(kw.kwlist)\n",
    "# kw is list not an array \n",
    "print(len(kw.kwlist))\n"
   ]
  },
  {
   "cell_type": "markdown",
   "id": "b759ee51",
   "metadata": {},
   "source": [
    "# identifiers"
   ]
  },
  {
   "cell_type": "markdown",
   "id": "d29b77e2",
   "metadata": {},
   "source": [
    "identifiers are names given to classes, functions and variables. "
   ]
  },
  {
   "cell_type": "code",
   "execution_count": null,
   "id": "041abc21",
   "metadata": {},
   "outputs": [],
   "source": [
    "# variables\n",
    "# no need to specify the datatype of dynamic typing\n",
    "# new_Var = old_var modified\n",
    "# in python variable names - snake_case - underscores between words - good programming practice"
   ]
  },
  {
   "cell_type": "markdown",
   "id": "682a1687",
   "metadata": {},
   "source": [
    "# multiline assignments "
   ]
  },
  {
   "cell_type": "code",
   "execution_count": 13,
   "id": "05cb65d4",
   "metadata": {},
   "outputs": [
    {
     "name": "stdout",
     "output_type": "stream",
     "text": [
      "11 11 11\n",
      "1 2 3.0\n"
     ]
    }
   ],
   "source": [
    "a, b, c = 1, 2, 3.0\n",
    "\n",
    "x = y = z = 11\n",
    "\n",
    "print(x, y, z)\n",
    "print(a, b, c)"
   ]
  },
  {
   "cell_type": "code",
   "execution_count": null,
   "id": "8e6a5b86",
   "metadata": {},
   "outputs": [],
   "source": []
  }
 ],
 "metadata": {
  "kernelspec": {
   "display_name": "Python 3 (ipykernel)",
   "language": "python",
   "name": "python3"
  },
  "language_info": {
   "codemirror_mode": {
    "name": "ipython",
    "version": 3
   },
   "file_extension": ".py",
   "mimetype": "text/x-python",
   "name": "python",
   "nbconvert_exporter": "python",
   "pygments_lexer": "ipython3",
   "version": "3.11.4"
  }
 },
 "nbformat": 4,
 "nbformat_minor": 5
}
